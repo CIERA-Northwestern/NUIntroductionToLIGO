{
 "cells": [
  {
   "cell_type": "markdown",
   "metadata": {},
   "source": [
    "# Intro to Northwestern LIGO"
   ]
  },
  {
   "cell_type": "markdown",
   "metadata": {},
   "source": [
    "## Table Of Contents\n",
    "\n",
    "Welcome to the IPython Notebook of PyOmega! This notebook will walk you through how to get started with NU LIGO. \n",
    "\n",
    "* [References](#References)\n",
    "* [Installation](#Installation/Software)\n",
    "* [Resources](#Resources)\n",
    "* [Introduction](#Introduction)\n",
    "    * [Statistics](#Statistics)\n",
    "    * [Physics](#Physics)\n",
    "    * [NU Work](#NU Work)"
   ]
  },
  {
   "cell_type": "markdown",
   "metadata": {},
   "source": [
    "<a id='References'></a>\n",
    "## References\n",
    "Please fill in useful papers"
   ]
  },
  {
   "cell_type": "markdown",
   "metadata": {},
   "source": [
    "<a id='Installation/Software'></a>\n",
    "## Installation On Local System (Really works for Mac OS X)\n",
    "This is a doozy of a section!\n",
    "\n",
    "The goal of this section is to be able to be able to set up a \"LIGO environment\" on your computer that will load all the right paths and software that will be uniform to everyone.\n",
    "\n",
    "First, we need to install [macports](https://www.macports.org/)\n",
    "\n",
    "First, you should get ligo data grid tools installed on your mac.\n",
    "[LDGTools](https://www.lsc-group.phys.uwm.edu/lscdatagrid/doc/installclient-mac.html)\n",
    "\n",
    "Getting Jupyter/iPython NB http://jupyter.readthedocs.org/en/latest/install.html\n",
    "\n",
    "GravitySpy: https://github.com/mzevin1/GravitySpy\n",
    "\n",
    "Chris's GITHUB: https://github.com/cpankow/\n",
    "\n",
    "LALSUITE (Current Official Tag) https://versions.ligo.org/cgit/lalsuite/?h=o1_lalinference_20160402\n",
    "\n",
    "Generating appropriate submit files for MCMC on Quest: https://github.com/scottcoughlin2014/submitgeneration\n",
    "\n",
    "GWpy: https://gwpy.github.io/docs/latest/install.html\n",
    "\n",
    "PyCBC: http://ligo-cbc.github.io/pycbc/latest/html/install.html\n",
    "\n",
    "\n",
    "Mac OS X Set Up\n"
   ]
  },
  {
   "cell_type": "markdown",
   "metadata": {},
   "source": [
    "<a id='Resources'></a>\n",
    "## Resources\n",
    "\n",
    "There are many individual iPython notebooks that help spell out data analysis techniques and projects that are going on in LIGO. We attempt to list them here."
   ]
  },
  {
   "cell_type": "markdown",
   "metadata": {
    "collapsed": true
   },
   "source": [
    "<a id='Statistics'></a>\n",
    "## Statistics\n",
    "\n",
    "### Intro to Bayesian Stats\n",
    "### Intro to Priors"
   ]
  },
  {
   "cell_type": "markdown",
   "metadata": {},
   "source": [
    "<a id='Physics'></a>\n",
    "## Physics"
   ]
  },
  {
   "cell_type": "markdown",
   "metadata": {},
   "source": [
    "<a id='NU Work'></a>\n",
    "## NU Work\n",
    "\n",
    "### Parameter Estimation\n",
    "#### MCMC\n",
    "        \n",
    "### GravitySpy\n",
    "#### Omega Scans"
   ]
  },
  {
   "cell_type": "markdown",
   "metadata": {},
   "source": []
  },
  {
   "cell_type": "code",
   "execution_count": null,
   "metadata": {
    "collapsed": true
   },
   "outputs": [],
   "source": []
  }
 ],
 "metadata": {
  "kernelspec": {
   "display_name": "Python 2",
   "language": "python",
   "name": "python2"
  },
  "language_info": {
   "codemirror_mode": {
    "name": "ipython",
    "version": 2
   },
   "file_extension": ".py",
   "mimetype": "text/x-python",
   "name": "python",
   "nbconvert_exporter": "python",
   "pygments_lexer": "ipython2",
   "version": "2.7.11"
  }
 },
 "nbformat": 4,
 "nbformat_minor": 0
}
