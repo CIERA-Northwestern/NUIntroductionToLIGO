{
 "cells": [
  {
   "cell_type": "markdown",
   "metadata": {},
   "source": [
    "# A Brief Introduction to General Relativity\n",
    "\n",
    "Einstein's general theory of relativity (GR) is a theory of *gravity* - the attractive force that all objects exert upon each other (you're exerting a gravitational force on the Earth right now!). Formulated between 1907 and 1915, GR replaced Newtonian gravity, which was postulated by Isaac Newton in the seventeenth century. Where Newtonian gravity explained gravitational pull as an instantaneous force exchanged between any two objects anywhere in the universe, GR describes gravity as the effect of the geometry of spacetime itself.\n",
    "\n",
    "What do we mean by the *geometry* of spacetime? It's easiest to ignore the 'time' portion, and consider just the geometry of space for a moment. You may recall learning geometry in highschool. In this class, you probably considered the measurement of various quantities (like the distance between two points or the area of a triangle) on a flat background - like a tabletop. There are other types of backgrounds, though. For instance, if you think about drawing a triangle on the surface of an inflated beachball, the area enclosed in the shape will be different form if you draw it on a flat piece of paper. That is because the surface of the beachball has *curvature* - it is this curvature of space that is central to the idea of GR.\n",
    "\n",
    "All matter (and energy - remember that $E=mc^2$!) produce curvature in spacetime. The more matter contained in a volume of spacetime, the larger the curvature associated with that volume. If you think of flat space as a rubber sheet, you can think of matter stretching that sheet. Heavier objects stretch the sheet more than lighter objects - this is essentially the idea behind GR. \n",
    "\n",
    "In the image below, we see an artist's rendition of a massive star warping the spacetime around it. We also see the path of a smaller object around that star. This object will travel along the straightest possible path in the curved spacetime of the massive star. It is this phenomenon that leads to orbits.\n",
    "\n",
    "<img src=\"./spacetime2.jpg\">\n",
    "\n",
    "Mathematically, GR is encapuslated by **Einstein's equation**:\n",
    "\n",
    "$\\Large G_{\\mu\\nu} = 8\\pi T_{\\mu\\nu}$\n",
    "\n",
    "Don't worry about understanding exactly what this equation says - the mathematics is fairly complicated. But the idea is simple. $G_{\\mu\\nu}$ is a mathematical object called the Einstein tensor. It describes the geometry of spacetime. $T_{\\mu\\nu}$, on the other side of the equation, is called the energy-momentum tensor, and it describes the way that energy and matter are distributed and moving in spacetime. So the curvature of space is determined by the distribution of matter, and vice versa.\n",
    "\n",
    "This idea can be summed up nicely in a quote by John Wheeler:\n",
    "\n",
    "**Matter tells space how to curve. Space tells matter how to move.**\n",
    "\n",
    "# Gravitational Waves\n",
    "Because the curvature of space is determined by the distribution of matter in that space, the movement of matter changes that curvature. As an object moves through space, it distorts the spacetime around it. These distortations propagate outward as waves. A good way to understand this concept is to think of spacetime as the surface of a pond. Anything moving through the water will send ripples out across the surface, just as anything moving through space will generate gravitational waves.\n",
    "\n",
    "The effect of a gravitatioanl wave passing through a region of space is to squeeze and then stretch that space. A ring of particles floating freely in space would be deformed as below:\n",
    "\n",
    "<img src=\"./pluscross.jpg\">\n",
    "\n",
    "Notice that there are two different patterns in this image. These are the two different polarizations of gravitational waves - they are called 'plus' and 'cross', because of the deformation patterns that they make.\n",
    "\n",
    "We can also look at an animation of what happens when a GW passes through a region of space:\n",
    "<img src=\"./Quadrupol_Wave.gif\">\n",
    "\n",
    "These waves are incredibly weak. Although (almost) any movement of matter or energy will generate gravitational waves, the only waves we can hope to detect are those from the most energetic events in the universe. These include the merger of very massive objects, like stars, black holes, and neutron stars. As these very massive bodies orbit each other, they emit gravitational waves that carry away energy and angular momentum. This causes their orbits to shrink, until the two objects eventually merge. They merge in a large explosion of energy, and then relax into their final state. These three phases are called inspiral, merger, and ringdown, and the full signal shows up in our detectors like below:\n",
    "<img src=\"./inspmergerdn.jpg\">\n",
    "\n",
    "\n",
    "Other sources of gravitational waves include the huge explosions at the end of some stars' lives, called supernovae, and some more exotic types of signal that are built up from a superposition of very quiet signals. These are called stochastic signals, and can teach us about early universe physics, or about the properties of populations of stellar binaries. "
   ]
  },
  {
   "cell_type": "code",
   "execution_count": null,
   "metadata": {
    "collapsed": true
   },
   "outputs": [],
   "source": []
  }
 ],
 "metadata": {
  "kernelspec": {
   "display_name": "Python 2",
   "language": "python",
   "name": "python2"
  },
  "language_info": {
   "codemirror_mode": {
    "name": "ipython",
    "version": 2
   },
   "file_extension": ".py",
   "mimetype": "text/x-python",
   "name": "python",
   "nbconvert_exporter": "python",
   "pygments_lexer": "ipython2",
   "version": "2.7.11"
  }
 },
 "nbformat": 4,
 "nbformat_minor": 0
}
